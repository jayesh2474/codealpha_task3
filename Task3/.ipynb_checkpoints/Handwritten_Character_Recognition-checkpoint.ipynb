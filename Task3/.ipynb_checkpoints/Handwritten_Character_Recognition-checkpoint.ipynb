{
  "cells": [
    {
      "cell_type": "markdown",
      "metadata": {
        "id": "5LKHMDMlkOvv"
      },
      "source": [
        "# ***HANDWRITTEN CHARACTER RECOGNITION*** ✍"
      ]
    },
    {
      "cell_type": "code",
      "execution_count": 3,
      "metadata": {
        "execution": {
          "iopub.execute_input": "2023-11-16T14:37:31.050549Z",
          "iopub.status.busy": "2023-11-16T14:37:31.050007Z",
          "iopub.status.idle": "2023-11-16T14:37:39.681709Z",
          "shell.execute_reply": "2023-11-16T14:37:39.680731Z",
          "shell.execute_reply.started": "2023-11-16T14:37:31.050435Z"
        },
        "id": "C54uqblYkOvx",
        "trusted": true
      },
      "outputs": [
        {
          "ename": "",
          "evalue": "",
          "output_type": "error",
          "traceback": [
            "\u001b[1;31mThe Kernel crashed while executing code in the current cell or a previous cell. \n",
            "\u001b[1;31mPlease review the code in the cell(s) to identify a possible cause of the failure. \n",
            "\u001b[1;31mClick <a href='https://aka.ms/vscodeJupyterKernelCrash'>here</a> for more info. \n",
            "\u001b[1;31mView Jupyter <a href='command:jupyter.viewOutput'>log</a> for further details."
          ]
        }
      ],
      "source": [
        "import numpy as np\n",
        "import pandas as pd\n",
        "import warnings\n",
        "import matplotlib.pyplot as plt\n",
        "import cv2\n",
        "import tensorflow as tf\n",
        "from sklearn.model_selection import train_test_split\n",
        "from sklearn.utils import shuffle\n",
        "from tensorflow.keras.models import Sequential\n",
        "from tensorflow.keras.layers import Dense, Flatten, Conv2D, MaxPool2D, Dropout\n",
        "from tensorflow.keras.optimizers import Adam\n",
        "from tensorflow.keras.callbacks import ReduceLROnPlateau, EarlyStopping\n",
        "from tensorflow.keras.utils import to_categorical"
      ]
    },
    {
      "cell_type": "markdown",
      "metadata": {
        "id": "jylBoOVtBctM"
      },
      "source": [
        "Loading and Inspecting the Dataset"
      ]
    },
    {
      "cell_type": "code",
      "execution_count": 4,
      "metadata": {
        "colab": {
          "base_uri": "https://localhost:8080/",
          "height": 255
        },
        "execution": {
          "iopub.execute_input": "2023-11-16T14:37:39.683562Z",
          "iopub.status.busy": "2023-11-16T14:37:39.683154Z",
          "iopub.status.idle": "2023-11-16T14:38:19.716896Z",
          "shell.execute_reply": "2023-11-16T14:38:19.715769Z",
          "shell.execute_reply.started": "2023-11-16T14:37:39.683527Z"
        },
        "id": "_ln9m7POkOvy",
        "outputId": "8dd31bf1-7be3-4467-b825-9b7e66f061ef",
        "trusted": true
      },
      "outputs": [],
      "source": [
        "my_data = pd.read_csv('A_Z Handwritten Data.csv').astype('float32')\n",
        "my_data.head()"
      ]
    },
    {
      "cell_type": "markdown",
      "metadata": {
        "id": "IHp_dgnbBjvt"
      },
      "source": [
        "Dataframe Creation and Preliminary Exploration"
      ]
    },
    {
      "cell_type": "code",
      "execution_count": null,
      "metadata": {
        "colab": {
          "base_uri": "https://localhost:8080/"
        },
        "execution": {
          "iopub.execute_input": "2023-11-16T14:38:19.719958Z",
          "iopub.status.busy": "2023-11-16T14:38:19.719491Z",
          "iopub.status.idle": "2023-11-16T14:38:19.762578Z",
          "shell.execute_reply": "2023-11-16T14:38:19.761406Z",
          "shell.execute_reply.started": "2023-11-16T14:38:19.719909Z"
        },
        "id": "wA5P5OrjkOvz",
        "outputId": "ae0c968e-88db-442a-bf89-508d120bf128",
        "trusted": true
      },
      "outputs": [],
      "source": [
        "my_frame = pd.DataFrame(my_data)\n",
        "print(my_frame.head())"
      ]
    },
    {
      "cell_type": "code",
      "execution_count": null,
      "metadata": {
        "colab": {
          "base_uri": "https://localhost:8080/"
        },
        "id": "yE1aWfTQCS-e",
        "outputId": "379342cf-24e7-4383-c6a9-134248c84322"
      },
      "outputs": [],
      "source": [
        "print(my_frame.shape)"
      ]
    },
    {
      "cell_type": "code",
      "execution_count": null,
      "metadata": {
        "colab": {
          "base_uri": "https://localhost:8080/"
        },
        "id": "V1SATIuGCT3d",
        "outputId": "95c6286a-8c48-4601-f904-4ec985dec8d1"
      },
      "outputs": [],
      "source": [
        "my_frame.info()"
      ]
    },
    {
      "cell_type": "code",
      "execution_count": null,
      "metadata": {
        "colab": {
          "base_uri": "https://localhost:8080/"
        },
        "id": "rwdpLLBrCaDh",
        "outputId": "0840e95d-1f32-4ae4-a7d5-38faae4de990"
      },
      "outputs": [],
      "source": [
        "print(my_frame.describe())"
      ]
    },
    {
      "cell_type": "code",
      "execution_count": null,
      "metadata": {
        "colab": {
          "base_uri": "https://localhost:8080/"
        },
        "id": "h5Dw8_acChao",
        "outputId": "67e3d72c-a818-407e-92ca-16046cf027aa"
      },
      "outputs": [],
      "source": [
        "print(my_frame.isnull().sum())"
      ]
    },
    {
      "cell_type": "markdown",
      "metadata": {
        "id": "kAbXyrk-Bnon"
      },
      "source": [
        "Dataset Preparation"
      ]
    },
    {
      "cell_type": "code",
      "execution_count": null,
      "metadata": {
        "execution": {
          "iopub.execute_input": "2023-11-16T14:38:19.764891Z",
          "iopub.status.busy": "2023-11-16T14:38:19.764468Z",
          "iopub.status.idle": "2023-11-16T14:38:19.771864Z",
          "shell.execute_reply": "2023-11-16T14:38:19.770582Z",
          "shell.execute_reply.started": "2023-11-16T14:38:19.764852Z"
        },
        "id": "7P8LozAZkOv0",
        "trusted": true
      },
      "outputs": [],
      "source": [
        "x = my_frame.drop('0', axis=1)\n",
        "y = my_frame['0']"
      ]
    },
    {
      "cell_type": "markdown",
      "metadata": {
        "id": "PriKoFqFBveq"
      },
      "source": [
        "Reshaping and Splitting Data for Training and Testing"
      ]
    },
    {
      "cell_type": "code",
      "execution_count": null,
      "metadata": {
        "colab": {
          "base_uri": "https://localhost:8080/"
        },
        "id": "PIYjPR22BvLT",
        "outputId": "e9763b2d-3f2b-484d-ae45-41e02909f954"
      },
      "outputs": [],
      "source": [
        "x_train, x_test, y_train, y_test = train_test_split(x, y, test_size=0.2)\n",
        "x_train = np.reshape(x_train.values, (x_train.shape[0], 28, 28))\n",
        "x_test = np.reshape(x_test.values, (x_test.shape[0], 28, 28))\n",
        "print('Train Data Shape:', x_train.shape)\n",
        "print('Test Data Shape:', x_test.shape)"
      ]
    },
    {
      "cell_type": "markdown",
      "metadata": {
        "id": "-YBFt-_QCCm1"
      },
      "source": [
        "Visualizing the Data Distribution"
      ]
    },
    {
      "cell_type": "code",
      "execution_count": null,
      "metadata": {
        "execution": {
          "iopub.execute_input": "2023-11-16T14:38:19.773884Z",
          "iopub.status.busy": "2023-11-16T14:38:19.773390Z",
          "iopub.status.idle": "2023-11-16T14:38:19.847269Z",
          "shell.execute_reply": "2023-11-16T14:38:19.846098Z",
          "shell.execute_reply.started": "2023-11-16T14:38:19.773838Z"
        },
        "id": "u1A5Gu0ykOv0",
        "trusted": true
      },
      "outputs": [],
      "source": [
        "word_dict = {\n",
        "    0:'A',1:'B',2:'C',3:'D',4:'E',5:'F',6:'G',7:'H',8:'I',9:'J',10:'K',11:'L',12:'M',13:'N',14:'O',15:'P',16:'Q',17:'R',18:'S',19:'T',20:'U',21:'V',22:'W',23:'X', 24:'Y',25:'Z'\n",
        "}"
      ]
    },
    {
      "cell_type": "code",
      "execution_count": null,
      "metadata": {
        "colab": {
          "base_uri": "https://localhost:8080/",
          "height": 773
        },
        "execution": {
          "iopub.execute_input": "2023-11-16T14:38:32.252949Z",
          "iopub.status.busy": "2023-11-16T14:38:32.252508Z",
          "iopub.status.idle": "2023-11-16T14:38:33.353214Z",
          "shell.execute_reply": "2023-11-16T14:38:33.352230Z",
          "shell.execute_reply.started": "2023-11-16T14:38:32.252917Z"
        },
        "id": "3cKAb8E6kOv5",
        "outputId": "9c40b87c-0265-4756-be06-0bbdf27d5e5f",
        "trusted": true
      },
      "outputs": [],
      "source": [
        "plt.style.use('seaborn')\n",
        "\n",
        "y_integer = np.int0(y)\n",
        "count = np.zeros(26, dtype='int')\n",
        "\n",
        "for i in y_integer:\n",
        "    count[i] += 1\n",
        "\n",
        "alphabets = [word_dict[i] for i in range(len(word_dict))]\n",
        "\n",
        "fig, ax = plt.subplots(1, 1, figsize=(15, 15))\n",
        "ax.barh(alphabets, count)\n",
        "\n",
        "# Set the title and labels with default font settings\n",
        "plt.xlabel('Number Of Elements', fontsize=20, fontweight='bold', color='black')\n",
        "plt.ylabel('Alphabets', fontsize=30, fontweight='bold', color='black')\n",
        "plt.grid(True)\n",
        "plt.show()\n",
        "warnings.filterwarnings(\"ignore\")"
      ]
    },
    {
      "cell_type": "markdown",
      "metadata": {
        "id": "tJOLmzu3kOv6"
      },
      "source": [
        "Shuffling and Displaying a Subset of Images"
      ]
    },
    {
      "cell_type": "code",
      "execution_count": null,
      "metadata": {
        "colab": {
          "base_uri": "https://localhost:8080/",
          "height": 1000
        },
        "execution": {
          "iopub.execute_input": "2023-11-16T14:38:33.355427Z",
          "iopub.status.busy": "2023-11-16T14:38:33.354835Z",
          "iopub.status.idle": "2023-11-16T14:38:34.768254Z",
          "shell.execute_reply": "2023-11-16T14:38:34.766949Z",
          "shell.execute_reply.started": "2023-11-16T14:38:33.355388Z"
        },
        "id": "I271HFM4kOv6",
        "outputId": "3c6e9991-b615-4383-8ff3-ce1d96742b77",
        "trusted": true
      },
      "outputs": [],
      "source": [
        "warnings.filterwarnings(\"ignore\")\n",
        "plt.style.use('seaborn')\n",
        "plt.xkcd()\n",
        "shuff = shuffle(x_train[:100])\n",
        "fig, ax = plt.subplots(3, 3, figsize = (15, 15))\n",
        "axes = ax.flatten()\n",
        "\n",
        "for i in range(9):\n",
        "    shu = cv2.threshold(shuff[i], 30, 200, cv2.THRESH_BINARY)\n",
        "    axes[i].imshow(np.reshape(shuff[i], (28, 28)), cmap = 'Greys')\n",
        "plt.show()"
      ]
    },
    {
      "cell_type": "markdown",
      "metadata": {
        "id": "maVqXkpDkOv6"
      },
      "source": [
        "Data Preprocessing for Model Input"
      ]
    },
    {
      "cell_type": "code",
      "execution_count": null,
      "metadata": {
        "colab": {
          "base_uri": "https://localhost:8080/"
        },
        "execution": {
          "iopub.execute_input": "2023-11-16T14:38:34.770671Z",
          "iopub.status.busy": "2023-11-16T14:38:34.770205Z",
          "iopub.status.idle": "2023-11-16T14:38:34.781422Z",
          "shell.execute_reply": "2023-11-16T14:38:34.779738Z",
          "shell.execute_reply.started": "2023-11-16T14:38:34.770626Z"
        },
        "id": "4vVFI_ZikOv7",
        "outputId": "f2971e79-6b4c-4cc1-884b-7bea15b434c9",
        "trusted": true
      },
      "outputs": [],
      "source": [
        "x_train = x_train.reshape(x_train.shape[0], x_train.shape[1], x_train.shape[2], 1)\n",
        "print(\"New shape of train data:\", x_train.shape)\n",
        "\n",
        "x_test = x_test.reshape(x_test.shape[0], x_test.shape[1], x_test.shape[2], 1)\n",
        "print(\"New shape of test data:\", x_test.shape)\n",
        "\n",
        "categorical_train = to_categorical(y_train, num_classes = 26, dtype = 'int')\n",
        "print(\"New shape of train labels:\", categorical_train.shape)\n",
        "\n",
        "categorical_test = to_categorical(y_test, num_classes = 26, dtype = 'int')\n",
        "print(\"New shape of test labels:\", categorical_test.shape)"
      ]
    },
    {
      "cell_type": "markdown",
      "metadata": {
        "id": "9mbCgGtYkOv8"
      },
      "source": [
        "Constructing the Deep Learning Model"
      ]
    },
    {
      "cell_type": "code",
      "execution_count": null,
      "metadata": {
        "execution": {
          "iopub.execute_input": "2023-11-16T14:38:34.831809Z",
          "iopub.status.busy": "2023-11-16T14:38:34.831368Z",
          "iopub.status.idle": "2023-11-16T14:38:35.015349Z",
          "shell.execute_reply": "2023-11-16T14:38:35.013509Z",
          "shell.execute_reply.started": "2023-11-16T14:38:34.831764Z"
        },
        "id": "NzzbOVbnkOv8",
        "trusted": true
      },
      "outputs": [],
      "source": [
        "my_model = Sequential()\n",
        "\n",
        "my_model.add(Conv2D(filters = 32, kernel_size = (3, 3), activation = 'relu', input_shape = (28, 28, 1)))\n",
        "my_model.add(MaxPool2D(pool_size = (2, 2), strides = 2))\n",
        "\n",
        "my_model.add(Conv2D(filters = 64, kernel_size = (3, 3), activation = 'relu', padding = 'same'))\n",
        "my_model.add(MaxPool2D(pool_size = (2, 2), strides = 2))\n",
        "\n",
        "my_model.add(Conv2D(filters = 128, kernel_size = (3, 3), activation = 'relu', padding = 'valid'))\n",
        "my_model.add(MaxPool2D(pool_size = (2, 2), strides = 2))\n",
        "\n",
        "my_model.add(Flatten())\n",
        "\n",
        "my_model.add(Dense(64, activation = \"relu\"))\n",
        "my_model.add(Dense(128, activation = \"relu\"))\n",
        "\n",
        "my_model.add(Dense(26, activation = \"softmax\"))"
      ]
    },
    {
      "cell_type": "markdown",
      "metadata": {
        "id": "IFtV98N2kOv8"
      },
      "source": [
        "Compiling and Training the Model"
      ]
    },
    {
      "cell_type": "code",
      "execution_count": null,
      "metadata": {
        "colab": {
          "base_uri": "https://localhost:8080/"
        },
        "execution": {
          "iopub.execute_input": "2023-11-16T14:38:35.017090Z",
          "iopub.status.busy": "2023-11-16T14:38:35.016755Z",
          "iopub.status.idle": "2023-11-16T14:42:21.830122Z",
          "shell.execute_reply": "2023-11-16T14:42:21.828936Z",
          "shell.execute_reply.started": "2023-11-16T14:38:35.017060Z"
        },
        "id": "aZ-K35BTkOv8",
        "outputId": "9ec934c4-3efb-4b88-e3d7-ca83d548393b",
        "trusted": true
      },
      "outputs": [],
      "source": [
        "my_model.compile(optimizer = 'adam', loss = 'categorical_crossentropy', metrics = ['accuracy'])\n",
        "history = my_model.fit(x_train, categorical_train, epochs = 1, validation_data = (x_test, categorical_test))"
      ]
    },
    {
      "cell_type": "markdown",
      "metadata": {
        "id": "XfVol24GkOv9"
      },
      "source": [
        "Evaluating Model Performance"
      ]
    },
    {
      "cell_type": "code",
      "execution_count": null,
      "metadata": {
        "colab": {
          "base_uri": "https://localhost:8080/"
        },
        "execution": {
          "iopub.execute_input": "2023-11-16T14:42:21.832006Z",
          "iopub.status.busy": "2023-11-16T14:42:21.831669Z",
          "iopub.status.idle": "2023-11-16T14:42:21.885560Z",
          "shell.execute_reply": "2023-11-16T14:42:21.884332Z",
          "shell.execute_reply.started": "2023-11-16T14:42:21.831973Z"
        },
        "id": "qebgeRI6kOv9",
        "outputId": "a057e9ca-05c3-4d61-b801-f8fd6639e76d",
        "trusted": true
      },
      "outputs": [],
      "source": [
        "my_model.summary()"
      ]
    },
    {
      "cell_type": "markdown",
      "metadata": {
        "id": "pTS5T-j5kOv9"
      },
      "source": [
        "Making Predictions on Test Data"
      ]
    },
    {
      "cell_type": "code",
      "execution_count": null,
      "metadata": {
        "colab": {
          "base_uri": "https://localhost:8080/"
        },
        "execution": {
          "iopub.execute_input": "2023-11-16T14:42:21.887724Z",
          "iopub.status.busy": "2023-11-16T14:42:21.887211Z",
          "iopub.status.idle": "2023-11-16T14:42:21.897008Z",
          "shell.execute_reply": "2023-11-16T14:42:21.895810Z",
          "shell.execute_reply.started": "2023-11-16T14:42:21.887677Z"
        },
        "id": "DsQmYaMjkOv-",
        "outputId": "57736566-04a4-47b4-d62f-02efb87ed482",
        "trusted": true
      },
      "outputs": [],
      "source": [
        "print(\"The validation accuracy is :\", history.history['val_accuracy'])\n",
        "print(\"The training accuracy is :\", history.history['accuracy'])\n",
        "print(\"The validation loss is :\", history.history['val_loss'])\n",
        "print(\"The training loss is :\", history.history['loss'])"
      ]
    },
    {
      "cell_type": "code",
      "execution_count": null,
      "metadata": {
        "colab": {
          "base_uri": "https://localhost:8080/",
          "height": 1000
        },
        "execution": {
          "iopub.execute_input": "2023-11-16T14:42:28.961386Z",
          "iopub.status.busy": "2023-11-16T14:42:28.960804Z",
          "iopub.status.idle": "2023-11-16T14:42:30.676213Z",
          "shell.execute_reply": "2023-11-16T14:42:30.675089Z",
          "shell.execute_reply.started": "2023-11-16T14:42:28.961325Z"
        },
        "id": "xCkfoFPNkOv-",
        "outputId": "f780be5f-574b-4296-894b-602840ac8aea",
        "trusted": true
      },
      "outputs": [],
      "source": [
        "warnings.filterwarnings(\"ignore\")\n",
        "plt.style.use('seaborn')\n",
        "plt.xkcd()\n",
        "\n",
        "fig, axes = plt.subplots(3, 3, figsize = (12, 15))\n",
        "axes = axes.flatten()\n",
        "\n",
        "for i, ax in enumerate(axes):\n",
        "    img = np.reshape(x_test[i], (28, 28))\n",
        "    ax.imshow(img, cmap = 'Greys')\n",
        "\n",
        "    pred = word_dict[np.argmax(categorical_test[i])]\n",
        "    ax.set_title(\"Prediction: \" + pred, fontsize = 20, fontweight = 'bold', color = 'red')\n",
        "    ax.grid()"
      ]
    }
  ],
  "metadata": {
    "colab": {
      "provenance": []
    },
    "kaggle": {
      "accelerator": "none",
      "dataSources": [
        {
          "datasetId": 9726,
          "sourceId": 17999,
          "sourceType": "datasetVersion"
        }
      ],
      "dockerImageVersionId": 30120,
      "isGpuEnabled": false,
      "isInternetEnabled": false,
      "language": "python",
      "sourceType": "notebook"
    },
    "kernelspec": {
      "display_name": "Python 3",
      "language": "python",
      "name": "python3"
    },
    "language_info": {
      "codemirror_mode": {
        "name": "ipython",
        "version": 3
      },
      "file_extension": ".py",
      "mimetype": "text/x-python",
      "name": "python",
      "nbconvert_exporter": "python",
      "pygments_lexer": "ipython3",
      "version": "3.10.12"
    }
  },
  "nbformat": 4,
  "nbformat_minor": 0
}
